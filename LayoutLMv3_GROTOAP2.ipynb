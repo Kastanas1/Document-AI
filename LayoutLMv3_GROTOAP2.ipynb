{
 "cells": [
  {
   "cell_type": "markdown",
   "id": "746d582f",
   "metadata": {},
   "source": [
    "## Data preparation:\n",
    "## One folder should have 3 folders with the images (train,validation,test) and the 3 json files in COCO format train.json, validation.json, test.json"
   ]
  },
  {
   "cell_type": "code",
   "execution_count": null,
   "id": "2776dca1",
   "metadata": {},
   "outputs": [],
   "source": [
    "!git clone https://github.com/microsoft/unilm.git"
   ]
  },
  {
   "cell_type": "code",
   "execution_count": null,
   "id": "285fdda6",
   "metadata": {},
   "outputs": [],
   "source": [
    "!pip install -q 'git+https://github.com/facebookresearch/detectron2.git'"
   ]
  },
  {
   "cell_type": "code",
   "execution_count": null,
   "id": "ae956f93",
   "metadata": {},
   "outputs": [],
   "source": [
    "!pip install -q -r unilm/layoutlmv3/requirements.txt"
   ]
  },
  {
   "cell_type": "code",
   "execution_count": null,
   "id": "33daa8db",
   "metadata": {},
   "outputs": [],
   "source": [
    "cd unilm"
   ]
  },
  {
   "cell_type": "code",
   "execution_count": null,
   "id": "92c7f808",
   "metadata": {},
   "outputs": [],
   "source": [
    "cd layoutlmv3"
   ]
  },
  {
   "cell_type": "code",
   "execution_count": null,
   "id": "06fc4bfd",
   "metadata": {},
   "outputs": [],
   "source": [
    "pip install ."
   ]
  },
  {
   "cell_type": "code",
   "execution_count": 1,
   "id": "3e2a8c75",
   "metadata": {},
   "outputs": [],
   "source": [
    "#start train"
   ]
  },
  {
   "cell_type": "code",
   "execution_count": null,
   "id": "f28f0d7b",
   "metadata": {},
   "outputs": [],
   "source": [
    "!python /home/ec2-user/SageMaker/unilm/layoutlmv3/examples/object_detection/train_net.py --config-file /home/ec2-user/SageMaker/unilm/layoutlmv3/examples/object_detection/cascade_layoutlmv3.yaml --num-gpus 1 \\\n",
    "        MODEL.WEIGHTS /home/ec2-user/SageMaker/unilm/layoutlmv3/pytorch_model.bin  \\\n",
    "        OUTPUT_DIR /home/ec2-user/SageMaker/LayoutLMv3-result-new"
   ]
  },
  {
   "cell_type": "code",
   "execution_count": 2,
   "id": "a3341c90",
   "metadata": {},
   "outputs": [],
   "source": [
    "#test"
   ]
  },
  {
   "cell_type": "code",
   "execution_count": null,
   "id": "da79e7b1",
   "metadata": {},
   "outputs": [],
   "source": [
    "!python /home/ec2-user/SageMaker/unilm/layoutlmv3/examples/object_detection/train_net.py --config-file /home/ec2-user/SageMaker/unilm/layoutlmv3/examples/object_detection/cascade_layoutlmv3test.yaml --eval-only --num-gpus 1 \\\n",
    "        MODEL.WEIGHTS /home/ec2-user/SageMaker/LayoutLMv3-result-epochs10/model_final.pth \\\n",
    "        OUTPUT_DIR /home/ec2-user/SageMaker/prediction-epochs10-validation"
   ]
  },
  {
   "cell_type": "code",
   "execution_count": null,
   "id": "7cf546e3",
   "metadata": {},
   "outputs": [],
   "source": []
  }
 ],
 "metadata": {
  "kernelspec": {
   "display_name": "conda_pytorch_p310",
   "language": "python",
   "name": "conda_pytorch_p310"
  },
  "language_info": {
   "codemirror_mode": {
    "name": "ipython",
    "version": 3
   },
   "file_extension": ".py",
   "mimetype": "text/x-python",
   "name": "python",
   "nbconvert_exporter": "python",
   "pygments_lexer": "ipython3",
   "version": "3.10.10"
  }
 },
 "nbformat": 4,
 "nbformat_minor": 5
}
