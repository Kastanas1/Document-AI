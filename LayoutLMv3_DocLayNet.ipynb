{
 "cells": [
  {
   "cell_type": "markdown",
   "id": "6597ca33",
   "metadata": {},
   "source": [
    "# The data should be:\n",
    "## Folder containing: 3 folders with images (train,validation,test) and 3 json files (train.json, validation.json, test.json). The data can be downloaded from https://github.com/DS4SD/DocLayNet"
   ]
  },
  {
   "cell_type": "code",
   "execution_count": null,
   "id": "04cd7c0c",
   "metadata": {},
   "outputs": [],
   "source": [
    "!git clone https://github.com/microsoft/unilm.git"
   ]
  },
  {
   "cell_type": "code",
   "execution_count": null,
   "id": "28967fdf",
   "metadata": {},
   "outputs": [],
   "source": [
    "!pip install -q 'git+https://github.com/facebookresearch/detectron2.git'"
   ]
  },
  {
   "cell_type": "code",
   "execution_count": null,
   "id": "3616c21d",
   "metadata": {},
   "outputs": [],
   "source": [
    "!pip install -q -r unilm/layoutlmv3/requirements.txt"
   ]
  },
  {
   "cell_type": "code",
   "execution_count": null,
   "id": "282ce505",
   "metadata": {},
   "outputs": [],
   "source": [
    "cd unilm"
   ]
  },
  {
   "cell_type": "code",
   "execution_count": null,
   "id": "3d228177",
   "metadata": {},
   "outputs": [],
   "source": [
    "cd layoutlmv3"
   ]
  },
  {
   "cell_type": "code",
   "execution_count": null,
   "id": "8f106884",
   "metadata": {},
   "outputs": [],
   "source": [
    "pip install ."
   ]
  },
  {
   "cell_type": "code",
   "execution_count": 1,
   "id": "c1bb660e",
   "metadata": {},
   "outputs": [],
   "source": [
    "#start train"
   ]
  },
  {
   "cell_type": "code",
   "execution_count": null,
   "id": "f1e0361f",
   "metadata": {},
   "outputs": [],
   "source": [
    "!python /home/ec2-user/SageMaker/unilm/layoutlmv3/examples/object_detection/train_net.py --config-file /home/ec2-user/SageMaker/unilm/layoutlmv3/examples/object_detection/cascade_layoutlmv3.yaml --num-gpus 1 \\\n",
    "        MODEL.WEIGHTS /home/ec2-user/SageMaker/unilm/layoutlmv3/pytorch_model.bin  \\\n",
    "        OUTPUT_DIR /home/ec2-user/SageMaker/ResultFullData"
   ]
  },
  {
   "cell_type": "code",
   "execution_count": 2,
   "id": "4c07ab7b",
   "metadata": {},
   "outputs": [],
   "source": [
    "#test"
   ]
  },
  {
   "cell_type": "code",
   "execution_count": null,
   "id": "bef85b20",
   "metadata": {},
   "outputs": [],
   "source": [
    "!python /home/ec2-user/SageMaker/unilm/layoutlmv3/examples/object_detection/train_net.py --config-file /home/ec2-user/SageMaker/unilm/layoutlmv3/examples/object_detection/cascade_layoutlmv3test.yaml --eval-only --num-gpus 1 \\\n",
    "        MODEL.WEIGHTS /home/ec2-user/SageMaker/unilm/layoutlmv3/model_final.pth \\\n",
    "        OUTPUT_DIR /home/ec2-user/SageMaker/testdoclaynet"
   ]
  }
 ],
 "metadata": {
  "kernelspec": {
   "display_name": "conda_pytorch_p310",
   "language": "python",
   "name": "conda_pytorch_p310"
  },
  "language_info": {
   "codemirror_mode": {
    "name": "ipython",
    "version": 3
   },
   "file_extension": ".py",
   "mimetype": "text/x-python",
   "name": "python",
   "nbconvert_exporter": "python",
   "pygments_lexer": "ipython3",
   "version": "3.10.10"
  }
 },
 "nbformat": 4,
 "nbformat_minor": 5
}
